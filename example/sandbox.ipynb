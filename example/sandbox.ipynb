{
 "cells": [
  {
   "cell_type": "code",
   "execution_count": 1,
   "metadata": {},
   "outputs": [
    {
     "name": "stdout",
     "output_type": "stream",
     "text": [
      "loading annotations into memory...\n",
      "Done (t=1.41s)\n",
      "creating index...\n",
      "index created!\n"
     ]
    }
   ],
   "source": [
    "from pycocotools.coco import COCO\n",
    "\n",
    "val_json=r\"/home/shinohara/Documents/YOLOX/datasets/white_cane_detection/annotations/grasped_dataset_val.json\"\n",
    "coco = COCO(val_json)\n"
   ]
  },
  {
   "cell_type": "code",
   "execution_count": 2,
   "metadata": {},
   "outputs": [],
   "source": [
    "filenames=[coco_data[\"file_name\"] for coco_data in coco.imgs.values()]"
   ]
  },
  {
   "cell_type": "code",
   "execution_count": 3,
   "metadata": {},
   "outputs": [],
   "source": [
    "import pandas as pd\n",
    "\n",
    "df_whitecane_anns=pd.DataFrame(data=coco.anns)"
   ]
  },
  {
   "cell_type": "markdown",
   "metadata": {},
   "source": [
    "# df_anns"
   ]
  },
  {
   "cell_type": "code",
   "execution_count": 4,
   "metadata": {},
   "outputs": [],
   "source": [
    "df_whitecane_anns=df_whitecane_anns.T"
   ]
  },
  {
   "cell_type": "code",
   "execution_count": 5,
   "metadata": {},
   "outputs": [
    {
     "data": {
      "text/plain": [
       "Index(['id', 'image_id', 'bbox', 'area', 'iscrowd', 'category_id',\n",
       "       'segmentation'],\n",
       "      dtype='object')"
      ]
     },
     "execution_count": 5,
     "metadata": {},
     "output_type": "execute_result"
    }
   ],
   "source": [
    "df_whitecane_anns.columns"
   ]
  },
  {
   "cell_type": "code",
   "execution_count": 6,
   "metadata": {},
   "outputs": [],
   "source": [
    "GRASPED_CLASSES = (\n",
    "    \"person\",\n",
    "    \"knife\", \n",
    "    \"white_cane\", \n",
    "    \"umbrella\", \n",
    "    \"plastic_bottle\", \n",
    "    \"phone\", \n",
    "    \"stick\", \n",
    "    \"maybe_knife\", \n",
    "    \"maybe_white_cane\", \n",
    "    \"maybe_umbrella\", \n",
    "    \"maybe_plastic_bottle\", \n",
    "    \"maybe_phone\", \n",
    "    \"maybe_stick\"\n",
    ")"
   ]
  },
  {
   "cell_type": "code",
   "execution_count": 7,
   "metadata": {},
   "outputs": [
    {
     "data": {
      "text/plain": [
       "<AxesSubplot: >"
      ]
     },
     "execution_count": 7,
     "metadata": {},
     "output_type": "execute_result"
    },
    {
     "data": {
      "image/png": "[encoded data removed]",
      "text/plain": [
       "<Figure size 640x480 with 1 Axes>"
      ]
     },
     "metadata": {},
     "output_type": "display_data"
    }
   ],
   "source": [
    "df_whitecane_anns[\"category_id\"].hist(bins=13)"
   ]
  },
  {
   "cell_type": "code",
   "execution_count": 8,
   "metadata": {},
   "outputs": [
    {
     "data": {
      "text/plain": [
       "id              316221\n",
       "image_id        316221\n",
       "bbox            316221\n",
       "area            316221\n",
       "iscrowd         316221\n",
       "category_id     316221\n",
       "segmentation    316221\n",
       "dtype: int64"
      ]
     },
     "execution_count": 8,
     "metadata": {},
     "output_type": "execute_result"
    }
   ],
   "source": [
    "df_whitecane_anns.count()\n"
   ]
  },
  {
   "cell_type": "code",
   "execution_count": 9,
   "metadata": {},
   "outputs": [
    {
     "data": {
      "text/plain": [
       "1         3\n",
       "2         8\n",
       "3         4\n",
       "4         1\n",
       "5         1\n",
       "         ..\n",
       "316217    7\n",
       "316218    4\n",
       "316219    9\n",
       "316220    5\n",
       "316221    3\n",
       "Name: category_id, Length: 316221, dtype: object"
      ]
     },
     "execution_count": 9,
     "metadata": {},
     "output_type": "execute_result"
    }
   ],
   "source": [
    "df_whitecane_anns[\"category_id\"]"
   ]
  },
  {
   "cell_type": "code",
   "execution_count": 10,
   "metadata": {},
   "outputs": [],
   "source": [
    "df_category_id=df_whitecane_anns[\"category_id\"]\n",
    "all_samples=len(df_whitecane_anns[\"category_id\"])\n",
    "rand_category=df_whitecane_anns[\"category_id\"].sample(n=round(all_samples * 0.05))"
   ]
  },
  {
   "cell_type": "code",
   "execution_count": 11,
   "metadata": {},
   "outputs": [
    {
     "data": {
      "text/plain": [
       "15811"
      ]
     },
     "execution_count": 11,
     "metadata": {},
     "output_type": "execute_result"
    },
    {
     "data": {
      "image/png": "[encoded data removed]",
      "text/plain": [
       "<Figure size 640x480 with 1 Axes>"
      ]
     },
     "metadata": {},
     "output_type": "display_data"
    }
   ],
   "source": [
    "rand_category.hist()\n",
    "rand_category.count()"
   ]
  },
  {
   "cell_type": "code",
   "execution_count": 12,
   "metadata": {},
   "outputs": [],
   "source": [
    "rand_category_idx=rand_category.index"
   ]
  },
  {
   "cell_type": "code",
   "execution_count": 13,
   "metadata": {},
   "outputs": [],
   "source": [
    "df_whitecane_anns=df_whitecane_anns.T\n",
    "df_sub_anns=df_whitecane_anns[rand_category_idx]\n"
   ]
  },
  {
   "cell_type": "code",
   "execution_count": 14,
   "metadata": {},
   "outputs": [
    {
     "data": {
      "text/html": [
       "<div>\n",
       "<style scoped>\n",
       "    .dataframe tbody tr th:only-of-type {\n",
       "        vertical-align: middle;\n",
       "    }\n",
       "\n",
       "    .dataframe tbody tr th {\n",
       "        vertical-align: top;\n",
       "    }\n",
       "\n",
       "    .dataframe thead th {\n",
       "        text-align: right;\n",
       "    }\n",
       "</style>\n",
       "<table border=\"1\" class=\"dataframe\">\n",
       "  <thead>\n",
       "    <tr style=\"text-align: right;\">\n",
       "      <th></th>\n",
       "      <th>141529</th>\n",
       "      <th>104821</th>\n",
       "      <th>69808</th>\n",
       "      <th>216360</th>\n",
       "      <th>182565</th>\n",
       "      <th>227767</th>\n",
       "      <th>81029</th>\n",
       "      <th>218015</th>\n",
       "      <th>6128</th>\n",
       "      <th>45003</th>\n",
       "      <th>...</th>\n",
       "      <th>83024</th>\n",
       "      <th>275178</th>\n",
       "      <th>10141</th>\n",
       "      <th>53800</th>\n",
       "      <th>32617</th>\n",
       "      <th>59241</th>\n",
       "      <th>114962</th>\n",
       "      <th>111190</th>\n",
       "      <th>35328</th>\n",
       "      <th>89119</th>\n",
       "    </tr>\n",
       "  </thead>\n",
       "  <tbody>\n",
       "    <tr>\n",
       "      <th>id</th>\n",
       "      <td>141529</td>\n",
       "      <td>104821</td>\n",
       "      <td>69808</td>\n",
       "      <td>216360</td>\n",
       "      <td>182565</td>\n",
       "      <td>227767</td>\n",
       "      <td>81029</td>\n",
       "      <td>218015</td>\n",
       "      <td>6128</td>\n",
       "      <td>45003</td>\n",
       "      <td>...</td>\n",
       "      <td>83024</td>\n",
       "      <td>275178</td>\n",
       "      <td>10141</td>\n",
       "      <td>53800</td>\n",
       "      <td>32617</td>\n",
       "      <td>59241</td>\n",
       "      <td>114962</td>\n",
       "      <td>111190</td>\n",
       "      <td>35328</td>\n",
       "      <td>89119</td>\n",
       "    </tr>\n",
       "    <tr>\n",
       "      <th>image_id</th>\n",
       "      <td>102051</td>\n",
       "      <td>75269</td>\n",
       "      <td>49892</td>\n",
       "      <td>156105</td>\n",
       "      <td>131712</td>\n",
       "      <td>164376</td>\n",
       "      <td>58136</td>\n",
       "      <td>157335</td>\n",
       "      <td>4338</td>\n",
       "      <td>32203</td>\n",
       "      <td>...</td>\n",
       "      <td>59665</td>\n",
       "      <td>198551</td>\n",
       "      <td>7211</td>\n",
       "      <td>38593</td>\n",
       "      <td>23190</td>\n",
       "      <td>42416</td>\n",
       "      <td>82741</td>\n",
       "      <td>79938</td>\n",
       "      <td>25148</td>\n",
       "      <td>64119</td>\n",
       "    </tr>\n",
       "    <tr>\n",
       "      <th>bbox</th>\n",
       "      <td>[52.0, 233.0, 160.0, 55.0]</td>\n",
       "      <td>[318.0, 246.0, 59.0, 182.0]</td>\n",
       "      <td>[300.0, 344.0, 51.0, 123.0]</td>\n",
       "      <td>[221.0, 301.0, 20.0, 148.0]</td>\n",
       "      <td>[231.0, 175.0, 48.0, 27.0]</td>\n",
       "      <td>[413.0, 157.0, 75.0, 91.0]</td>\n",
       "      <td>[101.0, 172.0, 62.0, 32.0]</td>\n",
       "      <td>[164.0, 197.0, 39.0, 25.0]</td>\n",
       "      <td>[204.0, 382.0, 9.0, 98.0]</td>\n",
       "      <td>[193.0, 58.0, 188.0, 402.0]</td>\n",
       "      <td>...</td>\n",
       "      <td>[334.0, 168.0, 35.0, 145.0]</td>\n",
       "      <td>[0.0, 319.0, 100.0, 192.0]</td>\n",
       "      <td>[31.0, 220.0, 21.0, 28.0]</td>\n",
       "      <td>[349.0, 294.0, 158.0, 188.0]</td>\n",
       "      <td>[67.0, 94.0, 173.0, 321.0]</td>\n",
       "      <td>[16.0, 0.0, 245.0, 511.0]</td>\n",
       "      <td>[258.0, 156.0, 104.0, 109.0]</td>\n",
       "      <td>[244.0, 94.0, 81.0, 221.0]</td>\n",
       "      <td>[226.0, 298.0, 22.0, 45.0]</td>\n",
       "      <td>[0.0, 164.0, 92.0, 239.0]</td>\n",
       "    </tr>\n",
       "    <tr>\n",
       "      <th>area</th>\n",
       "      <td>8800</td>\n",
       "      <td>10738</td>\n",
       "      <td>6273</td>\n",
       "      <td>2960</td>\n",
       "      <td>1296</td>\n",
       "      <td>6825</td>\n",
       "      <td>1984</td>\n",
       "      <td>975</td>\n",
       "      <td>882</td>\n",
       "      <td>75576</td>\n",
       "      <td>...</td>\n",
       "      <td>5075</td>\n",
       "      <td>19200</td>\n",
       "      <td>588</td>\n",
       "      <td>29704</td>\n",
       "      <td>55533</td>\n",
       "      <td>125195</td>\n",
       "      <td>11336</td>\n",
       "      <td>17901</td>\n",
       "      <td>990</td>\n",
       "      <td>21988</td>\n",
       "    </tr>\n",
       "    <tr>\n",
       "      <th>iscrowd</th>\n",
       "      <td>0</td>\n",
       "      <td>0</td>\n",
       "      <td>0</td>\n",
       "      <td>0</td>\n",
       "      <td>0</td>\n",
       "      <td>0</td>\n",
       "      <td>0</td>\n",
       "      <td>0</td>\n",
       "      <td>0</td>\n",
       "      <td>0</td>\n",
       "      <td>...</td>\n",
       "      <td>0</td>\n",
       "      <td>0</td>\n",
       "      <td>0</td>\n",
       "      <td>0</td>\n",
       "      <td>0</td>\n",
       "      <td>0</td>\n",
       "      <td>0</td>\n",
       "      <td>0</td>\n",
       "      <td>0</td>\n",
       "      <td>0</td>\n",
       "    </tr>\n",
       "    <tr>\n",
       "      <th>category_id</th>\n",
       "      <td>9</td>\n",
       "      <td>4</td>\n",
       "      <td>3</td>\n",
       "      <td>3</td>\n",
       "      <td>6</td>\n",
       "      <td>2</td>\n",
       "      <td>2</td>\n",
       "      <td>6</td>\n",
       "      <td>3</td>\n",
       "      <td>1</td>\n",
       "      <td>...</td>\n",
       "      <td>10</td>\n",
       "      <td>10</td>\n",
       "      <td>5</td>\n",
       "      <td>9</td>\n",
       "      <td>1</td>\n",
       "      <td>1</td>\n",
       "      <td>2</td>\n",
       "      <td>1</td>\n",
       "      <td>5</td>\n",
       "      <td>1</td>\n",
       "    </tr>\n",
       "    <tr>\n",
       "      <th>segmentation</th>\n",
       "      <td>[]</td>\n",
       "      <td>[]</td>\n",
       "      <td>[]</td>\n",
       "      <td>[]</td>\n",
       "      <td>[]</td>\n",
       "      <td>[]</td>\n",
       "      <td>[]</td>\n",
       "      <td>[]</td>\n",
       "      <td>[]</td>\n",
       "      <td>[]</td>\n",
       "      <td>...</td>\n",
       "      <td>[]</td>\n",
       "      <td>[]</td>\n",
       "      <td>[]</td>\n",
       "      <td>[]</td>\n",
       "      <td>[]</td>\n",
       "      <td>[]</td>\n",
       "      <td>[]</td>\n",
       "      <td>[]</td>\n",
       "      <td>[]</td>\n",
       "      <td>[]</td>\n",
       "    </tr>\n",
       "  </tbody>\n",
       "</table>\n",
       "<p>7 rows × 15811 columns</p>\n",
       "</div>"
      ],
      "text/plain": [
       "                                  141529                       104821  \\\n",
       "id                                141529                       104821   \n",
       "image_id                          102051                        75269   \n",
       "bbox          [52.0, 233.0, 160.0, 55.0]  [318.0, 246.0, 59.0, 182.0]   \n",
       "area                                8800                        10738   \n",
       "iscrowd                                0                            0   \n",
       "category_id                            9                            4   \n",
       "segmentation                          []                           []   \n",
       "\n",
       "                                   69808                        216360  \\\n",
       "id                                  69808                       216360   \n",
       "image_id                            49892                       156105   \n",
       "bbox          [300.0, 344.0, 51.0, 123.0]  [221.0, 301.0, 20.0, 148.0]   \n",
       "area                                 6273                         2960   \n",
       "iscrowd                                 0                            0   \n",
       "category_id                             3                            3   \n",
       "segmentation                           []                           []   \n",
       "\n",
       "                                  182565                      227767  \\\n",
       "id                                182565                      227767   \n",
       "image_id                          131712                      164376   \n",
       "bbox          [231.0, 175.0, 48.0, 27.0]  [413.0, 157.0, 75.0, 91.0]   \n",
       "area                                1296                        6825   \n",
       "iscrowd                                0                           0   \n",
       "category_id                            6                           2   \n",
       "segmentation                          []                          []   \n",
       "\n",
       "                                  81029                       218015  \\\n",
       "id                                 81029                      218015   \n",
       "image_id                           58136                      157335   \n",
       "bbox          [101.0, 172.0, 62.0, 32.0]  [164.0, 197.0, 39.0, 25.0]   \n",
       "area                                1984                         975   \n",
       "iscrowd                                0                           0   \n",
       "category_id                            2                           6   \n",
       "segmentation                          []                          []   \n",
       "\n",
       "                                 6128                         45003   ...  \\\n",
       "id                                 6128                        45003  ...   \n",
       "image_id                           4338                        32203  ...   \n",
       "bbox          [204.0, 382.0, 9.0, 98.0]  [193.0, 58.0, 188.0, 402.0]  ...   \n",
       "area                                882                        75576  ...   \n",
       "iscrowd                               0                            0  ...   \n",
       "category_id                           3                            1  ...   \n",
       "segmentation                         []                           []  ...   \n",
       "\n",
       "                                   83024                       275178  \\\n",
       "id                                  83024                      275178   \n",
       "image_id                            59665                      198551   \n",
       "bbox          [334.0, 168.0, 35.0, 145.0]  [0.0, 319.0, 100.0, 192.0]   \n",
       "area                                 5075                       19200   \n",
       "iscrowd                                 0                           0   \n",
       "category_id                            10                          10   \n",
       "segmentation                           []                          []   \n",
       "\n",
       "                                 10141                         53800   \\\n",
       "id                                10141                         53800   \n",
       "image_id                           7211                         38593   \n",
       "bbox          [31.0, 220.0, 21.0, 28.0]  [349.0, 294.0, 158.0, 188.0]   \n",
       "area                                588                         29704   \n",
       "iscrowd                               0                             0   \n",
       "category_id                           5                             9   \n",
       "segmentation                         []                            []   \n",
       "\n",
       "                                  32617                      59241   \\\n",
       "id                                 32617                      59241   \n",
       "image_id                           23190                      42416   \n",
       "bbox          [67.0, 94.0, 173.0, 321.0]  [16.0, 0.0, 245.0, 511.0]   \n",
       "area                               55533                     125195   \n",
       "iscrowd                                0                          0   \n",
       "category_id                            1                          1   \n",
       "segmentation                          []                         []   \n",
       "\n",
       "                                    114962                      111190  \\\n",
       "id                                  114962                      111190   \n",
       "image_id                             82741                       79938   \n",
       "bbox          [258.0, 156.0, 104.0, 109.0]  [244.0, 94.0, 81.0, 221.0]   \n",
       "area                                 11336                       17901   \n",
       "iscrowd                                  0                           0   \n",
       "category_id                              2                           1   \n",
       "segmentation                            []                          []   \n",
       "\n",
       "                                  35328                      89119   \n",
       "id                                 35328                      89119  \n",
       "image_id                           25148                      64119  \n",
       "bbox          [226.0, 298.0, 22.0, 45.0]  [0.0, 164.0, 92.0, 239.0]  \n",
       "area                                 990                      21988  \n",
       "iscrowd                                0                          0  \n",
       "category_id                            5                          1  \n",
       "segmentation                          []                         []  \n",
       "\n",
       "[7 rows x 15811 columns]"
      ]
     },
     "execution_count": 14,
     "metadata": {},
     "output_type": "execute_result"
    }
   ],
   "source": [
    "df_sub_anns"
   ]
  },
  {
   "cell_type": "code",
   "execution_count": 15,
   "metadata": {},
   "outputs": [],
   "source": [
    "rand_category_img_id=df_sub_anns.T[\"image_id\"].unique()"
   ]
  },
  {
   "cell_type": "code",
   "execution_count": 16,
   "metadata": {},
   "outputs": [
    {
     "data": {
      "text/plain": [
       "14880"
      ]
     },
     "execution_count": 16,
     "metadata": {},
     "output_type": "execute_result"
    }
   ],
   "source": [
    "len(rand_category_img_id)"
   ]
  },
  {
   "cell_type": "markdown",
   "metadata": {},
   "source": [
    "# df_imgs"
   ]
  },
  {
   "cell_type": "code",
   "execution_count": 17,
   "metadata": {},
   "outputs": [
    {
     "data": {
      "text/plain": [
       "<bound method DataFrame.count of                                                       0       \\\n",
       "file_name  202005_20200721_aug/val/white_stick_00194_56_0...   \n",
       "height                                                   512   \n",
       "width                                                    512   \n",
       "id                                                         0   \n",
       "\n",
       "                                                      1       \\\n",
       "file_name  csp_2nd_new_data/val/S2Avi143149-3_0084_i2_5_0...   \n",
       "height                                                   512   \n",
       "width                                                    512   \n",
       "id                                                         1   \n",
       "\n",
       "                                                      2       \\\n",
       "file_name  phase2_instance_aug/val/3660_094_20_1_cameraRi...   \n",
       "height                                                   512   \n",
       "width                                                    512   \n",
       "id                                                         2   \n",
       "\n",
       "                                                      3       \\\n",
       "file_name  phase3_takanawa_background/val/20200207030416_...   \n",
       "height                                                   512   \n",
       "width                                                    512   \n",
       "id                                                         3   \n",
       "\n",
       "                                                      4       \\\n",
       "file_name  0731_2nd_stage/csp_dataset_2nd_stage/val/91_38...   \n",
       "height                                                   512   \n",
       "width                                                    512   \n",
       "id                                                         4   \n",
       "\n",
       "                                                      5       \\\n",
       "file_name  phase3_addAnnotation_data/val/S2Avi115117-0000...   \n",
       "height                                                   512   \n",
       "width                                                    512   \n",
       "id                                                         5   \n",
       "\n",
       "                                                      6       \\\n",
       "file_name  202005_20200721_aug/val/white_stick_00576_74_0...   \n",
       "height                                                   512   \n",
       "width                                                    512   \n",
       "id                                                         6   \n",
       "\n",
       "                                                 7       \\\n",
       "file_name  20200410_aug/val/cameraLeft_3652_157_1_6.jpg   \n",
       "height                                              512   \n",
       "width                                               512   \n",
       "id                                                    7   \n",
       "\n",
       "                                                      8       \\\n",
       "file_name  phase3_takanawa_station_dataset/val/P1010050_2...   \n",
       "height                                                   512   \n",
       "width                                                    512   \n",
       "id                                                         8   \n",
       "\n",
       "                                             9       ...  \\\n",
       "file_name  202004_GW/val/whitestick1_00033_13_0.jpg  ...   \n",
       "height                                          512  ...   \n",
       "width                                           512  ...   \n",
       "id                                                9  ...   \n",
       "\n",
       "                                                      228293  \\\n",
       "file_name  phase2_instance_aug/val/3663_050_24_3_cameraRi...   \n",
       "height                                                   512   \n",
       "width                                                    512   \n",
       "id                                                    228293   \n",
       "\n",
       "                                      228294  \\\n",
       "file_name  output_left/val/3660_144_22_4.jpg   \n",
       "height                                   512   \n",
       "width                                    512   \n",
       "id                                    228294   \n",
       "\n",
       "                                                      228295  \\\n",
       "file_name  cg_all_dataset_small_object/val/male05_00374_1...   \n",
       "height                                                   512   \n",
       "width                                                    512   \n",
       "id                                                    228295   \n",
       "\n",
       "                                      228296  \\\n",
       "file_name  output_right/val/3652_050_4_1.jpg   \n",
       "height                                   512   \n",
       "width                                    512   \n",
       "id                                    228296   \n",
       "\n",
       "                                                      228297  \\\n",
       "file_name  phase2_instance_aug/val/3652_064_32_8_cameraRi...   \n",
       "height                                                   512   \n",
       "width                                                    512   \n",
       "id                                                    228297   \n",
       "\n",
       "                                                      228298  \\\n",
       "file_name  cg_all_dataset_small_object/val/female02_00276...   \n",
       "height                                                   512   \n",
       "width                                                    512   \n",
       "id                                                    228298   \n",
       "\n",
       "                                                      228299  \\\n",
       "file_name  phase3_saitama_shintoshin_dataset/val/20191211...   \n",
       "height                                                   512   \n",
       "width                                                    512   \n",
       "id                                                    228299   \n",
       "\n",
       "                                                      228300  \\\n",
       "file_name  202005_20200721_aug/val/white_stick_00578_26_1...   \n",
       "height                                                   512   \n",
       "width                                                    512   \n",
       "id                                                    228300   \n",
       "\n",
       "                                                      228301  \\\n",
       "file_name  20200410_aug/val/data_08_S2Avi163621-0000_0013...   \n",
       "height                                                   512   \n",
       "width                                                    512   \n",
       "id                                                    228301   \n",
       "\n",
       "                                      228302  \n",
       "file_name  output_right/val/3430_144_9_0.jpg  \n",
       "height                                   512  \n",
       "width                                    512  \n",
       "id                                    228302  \n",
       "\n",
       "[4 rows x 228303 columns]>"
      ]
     },
     "execution_count": 17,
     "metadata": {},
     "output_type": "execute_result"
    }
   ],
   "source": [
    "df_whitecane_imgs=pd.DataFrame(data=coco.imgs)\n",
    "df_whitecane_imgs.count"
   ]
  },
  {
   "cell_type": "code",
   "execution_count": 18,
   "metadata": {},
   "outputs": [],
   "source": [
    "df_sub_imgs=df_whitecane_imgs[rand_category_img_id]"
   ]
  },
  {
   "cell_type": "markdown",
   "metadata": {},
   "source": [
    "# to json"
   ]
  },
  {
   "cell_type": "code",
   "execution_count": 19,
   "metadata": {},
   "outputs": [],
   "source": [
    "df_sub_imgs_dict=df_sub_imgs.to_dict()\n",
    "df_sub_anns_dict=df_sub_anns.to_dict()"
   ]
  },
  {
   "cell_type": "code",
   "execution_count": 20,
   "metadata": {},
   "outputs": [],
   "source": [
    "df_sub_imgs_list=list(df_sub_imgs_dict.values())\n",
    "df_sub_anns_list=list(df_sub_anns_dict.values())"
   ]
  },
  {
   "cell_type": "code",
   "execution_count": 21,
   "metadata": {},
   "outputs": [],
   "source": [
    "categories=[\n",
    "    {\n",
    "        \"supercategory\": \"Defect\",\n",
    "        \"id\": 1,\n",
    "        \"name\": \"person\"\n",
    "    },\n",
    "    {\n",
    "        \"supercategory\": \"Defect\",\n",
    "        \"id\": 2,\n",
    "        \"name\": \"knife\"\n",
    "    },\n",
    "    {\n",
    "        \"supercategory\": \"Defect\",\n",
    "        \"id\": 3,\n",
    "        \"name\": \"white_cane\"\n",
    "    },\n",
    "    {\n",
    "        \"supercategory\": \"Defect\",\n",
    "        \"id\": 4,\n",
    "        \"name\": \"umbrella\"\n",
    "    },\n",
    "    {\n",
    "        \"supercategory\": \"Defect\",\n",
    "        \"id\": 5,\n",
    "        \"name\": \"plastic_bottle\"\n",
    "    },\n",
    "    {\n",
    "        \"supercategory\": \"Defect\",\n",
    "        \"id\": 6,\n",
    "        \"name\": \"phone\"\n",
    "    },\n",
    "    {\n",
    "        \"supercategory\": \"Defect\",\n",
    "        \"id\": 7,\n",
    "        \"name\": \"stick\"\n",
    "    },\n",
    "    {\n",
    "        \"supercategory\": \"Defect\",\n",
    "        \"id\": 8,\n",
    "        \"name\": \"maybe_knife\"\n",
    "    },\n",
    "    {\n",
    "        \"supercategory\": \"Defect\",\n",
    "        \"id\": 9,\n",
    "        \"name\": \"maybe_white_cane\"\n",
    "    },\n",
    "    {\n",
    "        \"supercategory\": \"Defect\",\n",
    "        \"id\": 10,\n",
    "        \"name\": \"maybe_umbrella\"\n",
    "    },\n",
    "    {\n",
    "        \"supercategory\": \"Defect\",\n",
    "        \"id\": 11,\n",
    "        \"name\": \"maybe_plastic_bottle\"\n",
    "    },\n",
    "    {\n",
    "        \"supercategory\": \"Defect\",\n",
    "        \"id\": 12,\n",
    "        \"name\": \"maybe_phone\"\n",
    "    },\n",
    "    {\n",
    "        \"supercategory\": \"Defect\",\n",
    "        \"id\": 13,\n",
    "        \"name\": \"maybe_stick\"\n",
    "    }\n",
    "]"
   ]
  },
  {
   "cell_type": "code",
   "execution_count": 22,
   "metadata": {},
   "outputs": [],
   "source": [
    "\n",
    "coco_form={\n",
    "    \"images\":df_sub_imgs_list,\n",
    "    \"categories\":categories,\n",
    "    \"annotations\":df_sub_anns_list\n",
    "}\n",
    "\n",
    "dir_path=\"/home/shinohara/Documents/YOLOX/datasets/white_cane_detection/annotations\"\n",
    "import json\n",
    "with open(f\"{dir_path}/grasped_sub_dataset_val.json\", 'w') as f:\n",
    "    json.dump(coco_form, f, indent=4,ensure_ascii=False)"
   ]
  },
  {
   "cell_type": "code",
   "execution_count": 23,
   "metadata": {},
   "outputs": [
    {
     "data": {
      "text/plain": [
       "14880"
      ]
     },
     "execution_count": 23,
     "metadata": {},
     "output_type": "execute_result"
    }
   ],
   "source": [
    "len(df_sub_imgs_list)"
   ]
  },
  {
   "cell_type": "markdown",
   "metadata": {},
   "source": [
    "# Check annotation"
   ]
  },
  {
   "cell_type": "code",
   "execution_count": 4,
   "metadata": {},
   "outputs": [],
   "source": [
    "df_whitecane_anns=df_whitecane_anns.T\n",
    "\n",
    "df_whitecane_anns[\"b_x\"]=df_whitecane_anns[\"bbox\"].apply(lambda x: x[0])\n",
    "df_whitecane_anns[\"b_y\"]=df_whitecane_anns[\"bbox\"].apply(lambda x: x[1])\n",
    "df_whitecane_anns[\"b_width\"]=df_whitecane_anns[\"bbox\"].apply(lambda x: x[2])\n",
    "df_whitecane_anns[\"b_height\"]=df_whitecane_anns[\"bbox\"].apply(lambda x: x[3])\n",
    "df_whitecane_anns[\"b_avg_x\"]=df_whitecane_anns[\"bbox\"].apply(lambda x: (x[0]+x[2])/2)\n",
    "df_whitecane_anns[\"b_avg_y\"]=df_whitecane_anns[\"bbox\"].apply(lambda x: (x[1]+x[3])/2)"
   ]
  },
  {
   "cell_type": "code",
   "execution_count": 15,
   "metadata": {},
   "outputs": [
    {
     "data": {
      "text/plain": [
       "<AxesSubplot: >"
      ]
     },
     "execution_count": 15,
     "metadata": {},
     "output_type": "execute_result"
    },
    {
     "data": {
      "image/png": "[encoded data removed]",
      "text/plain": [
       "<Figure size 640x480 with 1 Axes>"
      ]
     },
     "metadata": {},
     "output_type": "display_data"
    }
   ],
   "source": [
    "df_whitecane_anns[\"b_avg_x\"].hist(bins=64, range=[0,512])"
   ]
  },
  {
   "cell_type": "code",
   "execution_count": 16,
   "metadata": {},
   "outputs": [
    {
     "data": {
      "text/plain": [
       "<AxesSubplot: >"
      ]
     },
     "execution_count": 16,
     "metadata": {},
     "output_type": "execute_result"
    },
    {
     "data": {
      "image/png": "[encoded data removed]",
      "text/plain": [
       "<Figure size 640x480 with 1 Axes>"
      ]
     },
     "metadata": {},
     "output_type": "display_data"
    }
   ],
   "source": [
    "df_whitecane_anns[\"b_avg_y\"].hist(bins=64,range=[0,512])"
   ]
  },
  {
   "cell_type": "code",
   "execution_count": null,
   "metadata": {},
   "outputs": [],
   "source": []
  },
  {
   "cell_type": "code",
   "execution_count": null,
   "metadata": {},
   "outputs": [],
   "source": [
    "import os\n",
    "from tqdm import tqdm\n",
    "dir_name=\"/home/shinohara/Documents/YOLOX/datasets/white_cane_detection/2nd\"\n",
    "exist_check=[filename for filename in tqdm(filenames) if os.path.exists(os.path.join(dir_name, filename))==False]"
   ]
  },
  {
   "cell_type": "code",
   "execution_count": null,
   "metadata": {},
   "outputs": [],
   "source": [
    "exist_check"
   ]
  },
  {
   "cell_type": "code",
   "execution_count": null,
   "metadata": {},
   "outputs": [],
   "source": [
    "from PIL import Image\n",
    "import io\n",
    "def is_not_image_corrupted(image_path):\n",
    "    try:\n",
    "        with open(image_path, \"rb\") as img_file:\n",
    "            # 画像ファイルを読み込む\n",
    "            img = Image.open(io.BytesIO(img_file.read()))\n",
    "            # 画像が正しく読み込めるかどうかを確認\n",
    "            img.verify()\n",
    "            return True  # 画像が破損していない場合\n",
    "    except Exception as e:\n",
    "        return False  # 画像が破損している場合"
   ]
  },
  {
   "cell_type": "code",
   "execution_count": null,
   "metadata": {},
   "outputs": [],
   "source": [
    "broke_check=[filename for filename in tqdm(filenames) if is_not_image_corrupted(os.path.join(dir_name, filename))==False]"
   ]
  },
  {
   "cell_type": "code",
   "execution_count": null,
   "metadata": {},
   "outputs": [],
   "source": [
    "broke_check"
   ]
  },
  {
   "cell_type": "code",
   "execution_count": null,
   "metadata": {},
   "outputs": [],
   "source": [
    "image_path=rf\"{dir_name}/202005_20200721_aug/val/white_stick_00194_56_0.jpg\"\n",
    "with open(image_path, \"rb\") as img_file:\n",
    "    # 画像ファイルを読み込む\n",
    "    img = Image.open(io.BytesIO(img_file.read()))\n",
    "    # 画像が正しく読み込めるかどうかを確認\n",
    "    img.verify()\n"
   ]
  },
  {
   "cell_type": "code",
   "execution_count": null,
   "metadata": {},
   "outputs": [],
   "source": []
  }
 ],
 "metadata": {
  "kernelspec": {
   "display_name": "Python 3",
   "language": "python",
   "name": "python3"
  },
  "language_info": {
   "codemirror_mode": {
    "name": "ipython",
    "version": 3
   },
   "file_extension": ".py",
   "mimetype": "text/x-python",
   "name": "python",
   "nbconvert_exporter": "python",
   "pygments_lexer": "ipython3",
   "version": "3.10.1"
  },
  "orig_nbformat": 4
 },
 "nbformat": 4,
 "nbformat_minor": 2
}
