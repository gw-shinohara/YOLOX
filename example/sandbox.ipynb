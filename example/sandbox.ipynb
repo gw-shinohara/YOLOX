{
 "cells": [
  {
   "cell_type": "code",
   "execution_count": 1,
   "metadata": {},
   "outputs": [
    {
     "name": "stdout",
     "output_type": "stream",
     "text": [
      "loading annotations into memory...\n",
      "Done (t=1.36s)\n",
      "creating index...\n",
      "index created!\n"
     ]
    }
   ],
   "source": [
    "from pycocotools.coco import COCO\n",
    "\n",
    "val_json=r\"/home/shinohara/Documents/YOLOX/datasets/white_cane_detection/annotations/grasped_dataset_val.json\"\n",
    "coco = COCO(val_json)\n"
   ]
  },
  {
   "cell_type": "code",
   "execution_count": 2,
   "metadata": {},
   "outputs": [],
   "source": [
    "filenames=[coco_data[\"file_name\"] for coco_data in coco.imgs.values()]"
   ]
  },
  {
   "cell_type": "code",
   "execution_count": 3,
   "metadata": {},
   "outputs": [
    {
     "data": {
      "text/plain": [
       "'202005_20200721_aug/val/white_stick_00194_56_0.jpg'"
      ]
     },
     "execution_count": 3,
     "metadata": {},
     "output_type": "execute_result"
    }
   ],
   "source": [
    "filenames[0]"
   ]
  },
  {
   "cell_type": "code",
   "execution_count": 4,
   "metadata": {},
   "outputs": [
    {
     "name": "stderr",
     "output_type": "stream",
     "text": [
      "100%|██████████| 228303/228303 [00:01<00:00, 175089.63it/s]\n"
     ]
    }
   ],
   "source": [
    "import os\n",
    "from tqdm import tqdm\n",
    "dir_name=\"/home/shinohara/Documents/YOLOX/datasets/white_cane_detection/2nd\"\n",
    "exist_check=[filename for filename in tqdm(filenames) if os.path.exists(os.path.join(dir_name, filename))==False]"
   ]
  },
  {
   "cell_type": "code",
   "execution_count": 5,
   "metadata": {},
   "outputs": [
    {
     "data": {
      "text/plain": [
       "[]"
      ]
     },
     "execution_count": 5,
     "metadata": {},
     "output_type": "execute_result"
    }
   ],
   "source": [
    "exist_check"
   ]
  },
  {
   "cell_type": "code",
   "execution_count": 6,
   "metadata": {},
   "outputs": [],
   "source": [
    "from PIL import Image\n",
    "import io\n",
    "def is_not_image_corrupted(image_path):\n",
    "    try:\n",
    "        with open(image_path, \"rb\") as img_file:\n",
    "            # 画像ファイルを読み込む\n",
    "            img = Image.open(io.BytesIO(img_file.read()))\n",
    "            # 画像が正しく読み込めるかどうかを確認\n",
    "            img.verify()\n",
    "            return True  # 画像が破損していない場合\n",
    "    except Exception as e:\n",
    "        return False  # 画像が破損している場合"
   ]
  },
  {
   "cell_type": "code",
   "execution_count": 11,
   "metadata": {},
   "outputs": [
    {
     "name": "stderr",
     "output_type": "stream",
     "text": [
      "100%|██████████| 228303/228303 [00:15<00:00, 14346.54it/s]\n"
     ]
    }
   ],
   "source": [
    "broke_check=[filename for filename in tqdm(filenames) if is_not_image_corrupted(os.path.join(dir_name, filename))==False]"
   ]
  },
  {
   "cell_type": "code",
   "execution_count": 12,
   "metadata": {},
   "outputs": [
    {
     "data": {
      "text/plain": [
       "[]"
      ]
     },
     "execution_count": 12,
     "metadata": {},
     "output_type": "execute_result"
    }
   ],
   "source": [
    "broke_check"
   ]
  },
  {
   "cell_type": "code",
   "execution_count": 8,
   "metadata": {},
   "outputs": [
    {
     "name": "stdout",
     "output_type": "stream",
     "text": [
      "None\n"
     ]
    }
   ],
   "source": [
    "image_path=rf\"{dir_name}/202005_20200721_aug/val/white_stick_00194_56_0.jpg\"\n",
    "with open(image_path, \"rb\") as img_file:\n",
    "    # 画像ファイルを読み込む\n",
    "    img = Image.open(io.BytesIO(img_file.read()))\n",
    "    # 画像が正しく読み込めるかどうかを確認\n",
    "    img.verify()\n"
   ]
  },
  {
   "cell_type": "code",
   "execution_count": null,
   "metadata": {},
   "outputs": [],
   "source": []
  }
 ],
 "metadata": {
  "kernelspec": {
   "display_name": "Python 3",
   "language": "python",
   "name": "python3"
  },
  "language_info": {
   "codemirror_mode": {
    "name": "ipython",
    "version": 3
   },
   "file_extension": ".py",
   "mimetype": "text/x-python",
   "name": "python",
   "nbconvert_exporter": "python",
   "pygments_lexer": "ipython3",
   "version": "3.10.1"
  },
  "orig_nbformat": 4
 },
 "nbformat": 4,
 "nbformat_minor": 2
}
